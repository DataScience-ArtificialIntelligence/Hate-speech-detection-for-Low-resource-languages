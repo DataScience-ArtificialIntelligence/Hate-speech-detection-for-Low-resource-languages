{
 "cells": [
  {
   "cell_type": "code",
   "execution_count": 2,
   "metadata": {},
   "outputs": [],
   "source": [
    "import pandas as pd\n",
    "import re"
   ]
  },
  {
   "cell_type": "code",
   "execution_count": 5,
   "metadata": {},
   "outputs": [
    {
     "name": "stdout",
     "output_type": "stream",
     "text": [
      "Error: 'str' object cannot be interpreted as an integer\n"
     ]
    }
   ],
   "source": [
    "try:\n",
    "    # Load the dataset from CSV with tab as the separator\n",
    "    df = pd.read_csv('SOLD_train.csv', sep=',')\n",
    "\n",
    "    # Convert labels to 0 and 1\n",
    "    df['label'] = df['label'].map({'NOT': 0, 'HOF': 1})\n",
    "\n",
    "    # Remove English text and special characters\n",
    "    df['text'] = df['text'].apply(lambda x: re.sub(r'[a-zA-Z@]+', '', x))\n",
    "\n",
    "    # Keep only 'text' and 'label' columns\n",
    "    df = df[['text', 'label']]\n",
    "\n",
    "    # Save the preprocessed dataset to a new CSV file\n",
    "    df.to_csv('preprocessed_dataset.csv', index=False)\n",
    "\n",
    "    print(\"Preprocessing completed and saved to preprocessed_dataset.csv\")\n",
    "\n",
    "except Exception as e:\n",
    "    print(\"Error:\", e)"
   ]
  },
  {
   "cell_type": "code",
   "execution_count": null,
   "metadata": {},
   "outputs": [],
   "source": []
  }
 ],
 "metadata": {
  "kernelspec": {
   "display_name": "Python 3",
   "language": "python",
   "name": "python3"
  },
  "language_info": {
   "codemirror_mode": {
    "name": "ipython",
    "version": 3
   },
   "file_extension": ".py",
   "mimetype": "text/x-python",
   "name": "python",
   "nbconvert_exporter": "python",
   "pygments_lexer": "ipython3",
   "version": "3.12.1"
  }
 },
 "nbformat": 4,
 "nbformat_minor": 2
}
